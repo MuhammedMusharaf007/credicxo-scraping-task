{
 "cells": [
  {
   "cell_type": "code",
   "execution_count": 6,
   "id": "expanded-reserve",
   "metadata": {},
   "outputs": [
    {
     "name": "stdout",
     "output_type": "stream",
     "text": [
      "Package         Version\n",
      "--------------- -----------\n",
      "beautifulsoup4  4.11.1\n",
      "bs4             0.0.1\n",
      "csvreader       0.0.4\n",
      "distlib         0.3.4\n",
      "filelock        3.7.0\n",
      "numpy           1.22.4\n",
      "pandas          1.4.2\n",
      "pip             20.3.4\n",
      "pkg-resources   0.0.0\n",
      "platformdirs    2.5.2\n",
      "python-dateutil 2.8.2\n",
      "pytz            2022.1\n",
      "setuptools      44.1.1\n",
      "six             1.16.0\n",
      "soupsieve       2.3.2.post1\n",
      "virtualenv      20.14.1\n",
      "wheel           0.37.1\n",
      "/home/vostroraf/Documents/credicxo/project\n"
     ]
    }
   ],
   "source": [
    "!pip list\n",
    "!. /home/vostroraf/Documents/credicxo/credicxo\\ venv/bin/activate\n",
    "!pwd"
   ]
  },
  {
   "cell_type": "code",
   "execution_count": null,
   "id": "sharp-liberty",
   "metadata": {},
   "outputs": [],
   "source": [
    "!python3\n",
    "import csvreader"
   ]
  },
  {
   "cell_type": "code",
   "execution_count": null,
   "id": "comprehensive-senegal",
   "metadata": {},
   "outputs": [],
   "source": []
  }
 ],
 "metadata": {
  "kernelspec": {
   "display_name": "Python 3",
   "language": "python",
   "name": "python3"
  },
  "language_info": {
   "codemirror_mode": {
    "name": "ipython",
    "version": 3
   },
   "file_extension": ".py",
   "mimetype": "text/x-python",
   "name": "python",
   "nbconvert_exporter": "python",
   "pygments_lexer": "ipython3",
   "version": "3.9.7"
  }
 },
 "nbformat": 4,
 "nbformat_minor": 5
}
